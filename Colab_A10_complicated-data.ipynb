{
 "cells": [
  {
   "cell_type": "markdown",
   "metadata": {
    "id": "-AqiLKPR3r6d"
   },
   "source": [
    "# Working with complicated dataset"
   ]
  },
  {
   "cell_type": "markdown",
   "metadata": {
    "id": "uZ0oeT3-S5iq"
   },
   "source": [
    "Your name:"
   ]
  },
  {
   "cell_type": "markdown",
   "metadata": {
    "id": "tio0jU9Y3r6h"
   },
   "source": [
    "### Question 1\n",
    "\n",
    "blast_results: https://raw.githubusercontent.com/csbfx/advpy122-data/master/blast_results.csv\n",
    "\n",
    "Read in the data from the csv file above. Skip all the comment lines, create a header for the dataframe based on the fields list in the comment line that starts with **# Fields:**. Drop the first column `query acc.ver`. Set the `subject acc.ver` as the index of the dataframe. The last column of the dataframe should be `publications`. Show the first five rows of the resulting dataframe."
   ]
  },
  {
   "cell_type": "code",
   "execution_count": 69,
   "metadata": {
    "id": "zkhws8KT3r6i"
   },
   "outputs": [
    {
     "name": "stdout",
     "output_type": "stream",
     "text": [
      "Extracted header: ['query acc.ver', 'subject acc.ver', '% identity', 'alignment length', 'mismatches', 'gap opens', 'q. start', 'q. end', 's. start', 's. end', 'evalue', 'bit score', '% positives', 'bonds', 'publications\"']\n"
     ]
    },
    {
     "data": {
      "text/html": [
       "<div>\n",
       "<style scoped>\n",
       "    .dataframe tbody tr th:only-of-type {\n",
       "        vertical-align: middle;\n",
       "    }\n",
       "\n",
       "    .dataframe tbody tr th {\n",
       "        vertical-align: top;\n",
       "    }\n",
       "\n",
       "    .dataframe thead th {\n",
       "        text-align: right;\n",
       "    }\n",
       "</style>\n",
       "<table border=\"1\" class=\"dataframe\">\n",
       "  <thead>\n",
       "    <tr style=\"text-align: right;\">\n",
       "      <th></th>\n",
       "      <th>% identity</th>\n",
       "      <th>alignment length</th>\n",
       "      <th>mismatches</th>\n",
       "      <th>gap opens</th>\n",
       "      <th>q. start</th>\n",
       "      <th>q. end</th>\n",
       "      <th>s. start</th>\n",
       "      <th>s. end</th>\n",
       "      <th>evalue</th>\n",
       "      <th>bit score</th>\n",
       "      <th>% positives</th>\n",
       "      <th>bonds</th>\n",
       "      <th>publications</th>\n",
       "    </tr>\n",
       "    <tr>\n",
       "      <th>subject acc.ver</th>\n",
       "      <th></th>\n",
       "      <th></th>\n",
       "      <th></th>\n",
       "      <th></th>\n",
       "      <th></th>\n",
       "      <th></th>\n",
       "      <th></th>\n",
       "      <th></th>\n",
       "      <th></th>\n",
       "      <th></th>\n",
       "      <th></th>\n",
       "      <th></th>\n",
       "      <th></th>\n",
       "    </tr>\n",
       "  </thead>\n",
       "  <tbody>\n",
       "    <tr>\n",
       "      <th>NaN</th>\n",
       "      <td>NaN</td>\n",
       "      <td>NaN</td>\n",
       "      <td>NaN</td>\n",
       "      <td>NaN</td>\n",
       "      <td>NaN</td>\n",
       "      <td>NaN</td>\n",
       "      <td>NaN</td>\n",
       "      <td>NaN</td>\n",
       "      <td>NaN</td>\n",
       "      <td>NaN</td>\n",
       "      <td>NaN</td>\n",
       "      <td>NaN</td>\n",
       "      <td>NaN</td>\n",
       "    </tr>\n",
       "    <tr>\n",
       "      <th>NP_904328.1</th>\n",
       "      <td>100.000</td>\n",
       "      <td>318.0</td>\n",
       "      <td>0.0</td>\n",
       "      <td>0.0</td>\n",
       "      <td>1.0</td>\n",
       "      <td>318.0</td>\n",
       "      <td>1.0</td>\n",
       "      <td>318.0</td>\n",
       "      <td>0.0</td>\n",
       "      <td>629.0</td>\n",
       "      <td>100.00</td>\n",
       "      <td>1,487</td>\n",
       "      <td>9</td>\n",
       "    </tr>\n",
       "    <tr>\n",
       "      <th>AGK29621.1</th>\n",
       "      <td>99.686</td>\n",
       "      <td>318.0</td>\n",
       "      <td>1.0</td>\n",
       "      <td>0.0</td>\n",
       "      <td>1.0</td>\n",
       "      <td>318.0</td>\n",
       "      <td>1.0</td>\n",
       "      <td>318.0</td>\n",
       "      <td>0.0</td>\n",
       "      <td>629.0</td>\n",
       "      <td>100.00</td>\n",
       "      <td>17,947</td>\n",
       "      <td>47</td>\n",
       "    </tr>\n",
       "    <tr>\n",
       "      <th>YP_220563.1</th>\n",
       "      <td>99.686</td>\n",
       "      <td>318.0</td>\n",
       "      <td>1.0</td>\n",
       "      <td>0.0</td>\n",
       "      <td>1.0</td>\n",
       "      <td>318.0</td>\n",
       "      <td>1.0</td>\n",
       "      <td>318.0</td>\n",
       "      <td>0.0</td>\n",
       "      <td>627.0</td>\n",
       "      <td>100.00</td>\n",
       "      <td>12,106</td>\n",
       "      <td>13</td>\n",
       "    </tr>\n",
       "    <tr>\n",
       "      <th>ACM24502.1</th>\n",
       "      <td>99.686</td>\n",
       "      <td>318.0</td>\n",
       "      <td>1.0</td>\n",
       "      <td>0.0</td>\n",
       "      <td>1.0</td>\n",
       "      <td>318.0</td>\n",
       "      <td>1.0</td>\n",
       "      <td>318.0</td>\n",
       "      <td>0.0</td>\n",
       "      <td>627.0</td>\n",
       "      <td>99.69</td>\n",
       "      <td>2,319</td>\n",
       "      <td>41</td>\n",
       "    </tr>\n",
       "  </tbody>\n",
       "</table>\n",
       "</div>"
      ],
      "text/plain": [
       "                 % identity  alignment length  mismatches  gap opens  \\\n",
       "subject acc.ver                                                        \n",
       "NaN                     NaN               NaN         NaN        NaN   \n",
       "NP_904328.1         100.000             318.0         0.0        0.0   \n",
       "AGK29621.1           99.686             318.0         1.0        0.0   \n",
       "YP_220563.1          99.686             318.0         1.0        0.0   \n",
       "ACM24502.1           99.686             318.0         1.0        0.0   \n",
       "\n",
       "                 q. start  q. end  s. start  s. end  evalue  bit score  \\\n",
       "subject acc.ver                                                          \n",
       "NaN                   NaN     NaN       NaN     NaN     NaN        NaN   \n",
       "NP_904328.1           1.0   318.0       1.0   318.0     0.0      629.0   \n",
       "AGK29621.1            1.0   318.0       1.0   318.0     0.0      629.0   \n",
       "YP_220563.1           1.0   318.0       1.0   318.0     0.0      627.0   \n",
       "ACM24502.1            1.0   318.0       1.0   318.0     0.0      627.0   \n",
       "\n",
       "                 % positives     bonds publications  \n",
       "subject acc.ver                                      \n",
       "NaN                      NaN       NaN          NaN  \n",
       "NP_904328.1           100.00    1,487             9  \n",
       "AGK29621.1            100.00   17,947            47  \n",
       "YP_220563.1           100.00   12,106            13  \n",
       "ACM24502.1             99.69    2,319            41  "
      ]
     },
     "execution_count": 69,
     "metadata": {},
     "output_type": "execute_result"
    }
   ],
   "source": [
    "import pandas as pd\n",
    "import requests\n",
    "from io import StringIO\n",
    "\n",
    "# URL of the dataset\n",
    "url = \"https://raw.githubusercontent.com/csbfx/advpy122-data/master/blast_results.csv\"\n",
    "\n",
    "# Read the raw data from the URL\n",
    "response = requests.get(url)\n",
    "data = response.text\n",
    "\n",
    "# Split the data into lines\n",
    "lines = data.split('\\n')\n",
    "\n",
    "# Extract the header from the comment line that starts with '# Fields:'\n",
    "header_line = None\n",
    "for line in lines:\n",
    "    if line.startswith('\"# Fields:'):\n",
    "        header_line = line.replace('\"# Fields:', '').strip()\n",
    "        break\n",
    "\n",
    "# Ensure header_line is not None\n",
    "if header_line is None:\n",
    "    raise ValueError(\"Header line not found\")\n",
    "\n",
    "# Split the header into columns and clean up the array\n",
    "header = [col.strip() for col in header_line.split(',') if col.strip()]\n",
    "\n",
    "# Ensure the header stops at 'publications'\n",
    "if 'publications' in header:\n",
    "    header = header[:header.index('publications') + 1]\n",
    "\n",
    "# Print the extracted header for debugging\n",
    "print(f\"Extracted header: {header}\")\n",
    "\n",
    "# Check for duplicate column names\n",
    "if len(header) != len(set(header)):\n",
    "    duplicates = [col for col in header if header.count(col) > 1]\n",
    "    raise ValueError(f\"Duplicate column names found in the header: {duplicates}\")\n",
    "\n",
    "# Filter out comment lines and join the remaining lines\n",
    "filtered_data = '\\n'.join([line for line in lines if not line.startswith('#') and line.strip() != ''])\n",
    "\n",
    "# Read the filtered data into a dataframe\n",
    "df = pd.read_csv(StringIO(filtered_data), header=None)\n",
    "\n",
    "\n",
    "# Set the correct header\n",
    "if len(df.columns) > len(header):\n",
    "    df = df.iloc[:, :len(header)]  # Trim extra columns if any\n",
    "elif len(df.columns) < len(header):\n",
    "    raise ValueError(\"Data columns are fewer than header columns\")\n",
    "\n",
    "df.columns = header\n",
    "\n",
    "# Drop the first column 'query acc.ver'\n",
    "df.drop(columns=['query acc.ver'], inplace=True)\n",
    "\n",
    "# Set 'subject acc.ver' as the index\n",
    "df.set_index('subject acc.ver', inplace=True)\n",
    "\n",
    "# Ensure the last column is 'publications'\n",
    "df.columns = [col.strip().strip('\"') for col in df.columns]  # Clean up column names again if necessary\n",
    "\n",
    "# Clean up the 'publications' column\n",
    "df['publications'] = df['publications'].str.replace(',', '').str.strip()\n",
    "\n",
    "df.head()\n"
   ]
  },
  {
   "cell_type": "markdown",
   "metadata": {
    "id": "aHNeMncr3r6j"
   },
   "source": [
    "### Question 2\n",
    "What is the average number of publications?"
   ]
  },
  {
   "cell_type": "code",
   "execution_count": 70,
   "metadata": {
    "id": "Q1JK-hYw3r6j"
   },
   "outputs": [
    {
     "name": "stdout",
     "output_type": "stream",
     "text": [
      "Average number of publications: 26.989690721649485\n"
     ]
    },
    {
     "data": {
      "text/html": [
       "<div>\n",
       "<style scoped>\n",
       "    .dataframe tbody tr th:only-of-type {\n",
       "        vertical-align: middle;\n",
       "    }\n",
       "\n",
       "    .dataframe tbody tr th {\n",
       "        vertical-align: top;\n",
       "    }\n",
       "\n",
       "    .dataframe thead th {\n",
       "        text-align: right;\n",
       "    }\n",
       "</style>\n",
       "<table border=\"1\" class=\"dataframe\">\n",
       "  <thead>\n",
       "    <tr style=\"text-align: right;\">\n",
       "      <th></th>\n",
       "      <th>% identity</th>\n",
       "      <th>alignment length</th>\n",
       "      <th>mismatches</th>\n",
       "      <th>gap opens</th>\n",
       "      <th>q. start</th>\n",
       "      <th>q. end</th>\n",
       "      <th>s. start</th>\n",
       "      <th>s. end</th>\n",
       "      <th>evalue</th>\n",
       "      <th>bit score</th>\n",
       "      <th>% positives</th>\n",
       "      <th>bonds</th>\n",
       "      <th>publications</th>\n",
       "    </tr>\n",
       "    <tr>\n",
       "      <th>subject acc.ver</th>\n",
       "      <th></th>\n",
       "      <th></th>\n",
       "      <th></th>\n",
       "      <th></th>\n",
       "      <th></th>\n",
       "      <th></th>\n",
       "      <th></th>\n",
       "      <th></th>\n",
       "      <th></th>\n",
       "      <th></th>\n",
       "      <th></th>\n",
       "      <th></th>\n",
       "      <th></th>\n",
       "    </tr>\n",
       "  </thead>\n",
       "  <tbody>\n",
       "    <tr>\n",
       "      <th>NP_904328.1</th>\n",
       "      <td>100.000</td>\n",
       "      <td>318.0</td>\n",
       "      <td>0.0</td>\n",
       "      <td>0.0</td>\n",
       "      <td>1.0</td>\n",
       "      <td>318.0</td>\n",
       "      <td>1.0</td>\n",
       "      <td>318.0</td>\n",
       "      <td>0.0</td>\n",
       "      <td>629.0</td>\n",
       "      <td>100.00</td>\n",
       "      <td>1,487</td>\n",
       "      <td>9.0</td>\n",
       "    </tr>\n",
       "    <tr>\n",
       "      <th>AGK29621.1</th>\n",
       "      <td>99.686</td>\n",
       "      <td>318.0</td>\n",
       "      <td>1.0</td>\n",
       "      <td>0.0</td>\n",
       "      <td>1.0</td>\n",
       "      <td>318.0</td>\n",
       "      <td>1.0</td>\n",
       "      <td>318.0</td>\n",
       "      <td>0.0</td>\n",
       "      <td>629.0</td>\n",
       "      <td>100.00</td>\n",
       "      <td>17,947</td>\n",
       "      <td>47.0</td>\n",
       "    </tr>\n",
       "    <tr>\n",
       "      <th>YP_220563.1</th>\n",
       "      <td>99.686</td>\n",
       "      <td>318.0</td>\n",
       "      <td>1.0</td>\n",
       "      <td>0.0</td>\n",
       "      <td>1.0</td>\n",
       "      <td>318.0</td>\n",
       "      <td>1.0</td>\n",
       "      <td>318.0</td>\n",
       "      <td>0.0</td>\n",
       "      <td>627.0</td>\n",
       "      <td>100.00</td>\n",
       "      <td>12,106</td>\n",
       "      <td>13.0</td>\n",
       "    </tr>\n",
       "    <tr>\n",
       "      <th>ACM24502.1</th>\n",
       "      <td>99.686</td>\n",
       "      <td>318.0</td>\n",
       "      <td>1.0</td>\n",
       "      <td>0.0</td>\n",
       "      <td>1.0</td>\n",
       "      <td>318.0</td>\n",
       "      <td>1.0</td>\n",
       "      <td>318.0</td>\n",
       "      <td>0.0</td>\n",
       "      <td>627.0</td>\n",
       "      <td>99.69</td>\n",
       "      <td>2,319</td>\n",
       "      <td>41.0</td>\n",
       "    </tr>\n",
       "    <tr>\n",
       "      <th>AHG32084.1</th>\n",
       "      <td>99.371</td>\n",
       "      <td>318.0</td>\n",
       "      <td>2.0</td>\n",
       "      <td>0.0</td>\n",
       "      <td>1.0</td>\n",
       "      <td>318.0</td>\n",
       "      <td>1.0</td>\n",
       "      <td>318.0</td>\n",
       "      <td>0.0</td>\n",
       "      <td>627.0</td>\n",
       "      <td>100.00</td>\n",
       "      <td>18,964</td>\n",
       "      <td>3.0</td>\n",
       "    </tr>\n",
       "  </tbody>\n",
       "</table>\n",
       "</div>"
      ],
      "text/plain": [
       "                 % identity  alignment length  mismatches  gap opens  \\\n",
       "subject acc.ver                                                        \n",
       "NP_904328.1         100.000             318.0         0.0        0.0   \n",
       "AGK29621.1           99.686             318.0         1.0        0.0   \n",
       "YP_220563.1          99.686             318.0         1.0        0.0   \n",
       "ACM24502.1           99.686             318.0         1.0        0.0   \n",
       "AHG32084.1           99.371             318.0         2.0        0.0   \n",
       "\n",
       "                 q. start  q. end  s. start  s. end  evalue  bit score  \\\n",
       "subject acc.ver                                                          \n",
       "NP_904328.1           1.0   318.0       1.0   318.0     0.0      629.0   \n",
       "AGK29621.1            1.0   318.0       1.0   318.0     0.0      629.0   \n",
       "YP_220563.1           1.0   318.0       1.0   318.0     0.0      627.0   \n",
       "ACM24502.1            1.0   318.0       1.0   318.0     0.0      627.0   \n",
       "AHG32084.1            1.0   318.0       1.0   318.0     0.0      627.0   \n",
       "\n",
       "                 % positives     bonds  publications  \n",
       "subject acc.ver                                       \n",
       "NP_904328.1           100.00    1,487            9.0  \n",
       "AGK29621.1            100.00   17,947           47.0  \n",
       "YP_220563.1           100.00   12,106           13.0  \n",
       "ACM24502.1             99.69    2,319           41.0  \n",
       "AHG32084.1            100.00   18,964            3.0  "
      ]
     },
     "execution_count": 70,
     "metadata": {},
     "output_type": "execute_result"
    }
   ],
   "source": [
    "\n",
    "# Convert 'publications' column to float, coercing errors to NaN\n",
    "df['publications'] = pd.to_numeric(df['publications'], errors='coerce')\n",
    "\n",
    "# Drop rows with NaN values in 'publications'\n",
    "df = df.dropna(subset=['publications'])\n",
    "\n",
    "# Calculate the average number of publications\n",
    "average_publications = df['publications'].mean()\n",
    "print(f\"Average number of publications: {average_publications}\")\n",
    "\n",
    "df.head()"
   ]
  },
  {
   "cell_type": "markdown",
   "metadata": {
    "id": "r4gRR96y3r6k"
   },
   "source": [
    "### Question 3\n",
    "List the `subject acc.ver` that has over 15,000 bonds."
   ]
  },
  {
   "cell_type": "code",
   "execution_count": 75,
   "metadata": {
    "id": "pLKiddab3r6k"
   },
   "outputs": [
    {
     "name": "stdout",
     "output_type": "stream",
     "text": [
      "Subjects with over 15,000 bonds: ['AGK29621.1', 'AHG32084.1', '6G2J_H', 'YP_002791042.1', 'AGK29634.1', '0806162F', 'YP_009112408.1', 'YP_001876469.1', 'YP_009092269.1', 'AHG32149.1', 'YP_009092074.1', 'YP_009450474.1', 'YP_004123270.1', 'YP_009092073.1', 'AHZ60901.1', 'YP_004123350.1', 'YP_009453754.1', 'ADD46492.1', 'YP_009453806.1', 'YP_007024956.1', 'ASM92364.1', 'YP_006073044.1', 'ASM92494.1', 'ADG95699.1', 'YP_004891275.1', 'YP_009166014.1', 'YP_009538416.1', 'YP_009414182.1', 'YP_009178854.1', 'YP_009414415.1', 'YP_009353908.1', 'YP_009093743.1', 'ABX45285.1', 'YP_009414156.1', 'YP_009414363.1']\n"
     ]
    }
   ],
   "source": [
    "\n",
    "\n",
    "\n",
    "# Convert 'bonds' column to float, coercing errors to NaN\n",
    "df['bonds'] = pd.to_numeric(df['bonds'], errors='coerce')\n",
    "\n",
    "# Drop rows with NaN values in 'bonds'\n",
    "df = df.dropna(subset=['bonds'])\n",
    "\n",
    "# Convert 'bonds' column to int\n",
    "df['bonds'] = df['bonds'].astype(int)\n",
    "\n",
    "# List the `subject acc.ver` that has over 15,000 bonds\n",
    "subjects_over_15000 = df[df['bonds'] > 15000].index.tolist()\n",
    "print(f\"Subjects with over 15,000 bonds: {subjects_over_15000}\")\n"
   ]
  },
  {
   "cell_type": "markdown",
   "metadata": {
    "id": "H56QTFYU3r6l"
   },
   "source": [
    "### Question 4\n",
    "Create a plot that shows the correlation between `% identity` and `% positives`.\n",
    "\n"
   ]
  },
  {
   "cell_type": "code",
   "execution_count": 77,
   "metadata": {
    "id": "YD3IBzmG3r6l"
   },
   "outputs": [
    {
     "data": {
      "image/png": "[encoded data removed]",
      "text/plain": [
       "<Figure size 1000x600 with 1 Axes>"
      ]
     },
     "metadata": {},
     "output_type": "display_data"
    }
   ],
   "source": [
    "import matplotlib.pyplot as plt\n",
    "import seaborn as sns\n",
    "\n",
    "# Create a scatter plot to show the correlation between '% identity' and '% positives'\n",
    "plt.figure(figsize=(10, 6))\n",
    "sns.scatterplot(x='% identity', y='% positives', data=df)\n",
    "plt.title('Correlation between % Identity and % Positives')\n",
    "plt.xlabel('% Identity')\n",
    "plt.ylabel('% Positives')\n",
    "plt.show()"
   ]
  },
  {
   "cell_type": "markdown",
   "metadata": {
    "id": "pEUJxhad3r6m"
   },
   "source": [
    "### Question  5\n",
    "Add a column `Protein source` to the dataframe from Question 1 based on the data in this csv file: https://raw.githubusercontent.com/csbfx/advpy122-data/master/protein_source.csv. Merge the data when the `subject acc.ver` from the dataframe equals to `Protein` in the csv file. Entries without a matching protein will have `NA` as `Protein source`."
   ]
  },
  {
   "cell_type": "code",
   "execution_count": 80,
   "metadata": {
    "id": "xzIwyECv3r6m"
   },
   "outputs": [
    {
     "name": "stdout",
     "output_type": "stream",
     "text": [
      "                 % identity  alignment length  mismatches  gap opens  \\\n",
      "subject acc.ver                                                        \n",
      "NP_904328.1         100.000             318.0         0.0        0.0   \n",
      "AGK29621.1           99.686             318.0         1.0        0.0   \n",
      "YP_220563.1          99.686             318.0         1.0        0.0   \n",
      "ACM24502.1           99.686             318.0         1.0        0.0   \n",
      "AHG32084.1           99.371             318.0         2.0        0.0   \n",
      "\n",
      "                 q. start  q. end  s. start  s. end  evalue  bit score  \\\n",
      "subject acc.ver                                                          \n",
      "NP_904328.1           1.0   318.0       1.0   318.0     0.0      629.0   \n",
      "AGK29621.1            1.0   318.0       1.0   318.0     0.0      629.0   \n",
      "YP_220563.1           1.0   318.0       1.0   318.0     0.0      627.0   \n",
      "ACM24502.1            1.0   318.0       1.0   318.0     0.0      627.0   \n",
      "AHG32084.1            1.0   318.0       1.0   318.0     0.0      627.0   \n",
      "\n",
      "                 % positives  bonds  publications  Unnamed: 0      Protein  \\\n",
      "subject acc.ver                                                              \n",
      "NP_904328.1           100.00   1487           9.0         0.0  NP_904328.1   \n",
      "AGK29621.1            100.00  17947          47.0         NaN          NaN   \n",
      "YP_220563.1           100.00  12106          13.0         2.0  YP_220563.1   \n",
      "ACM24502.1             99.69   2319          41.0         NaN          NaN   \n",
      "AHG32084.1            100.00  18964           3.0         NaN          NaN   \n",
      "\n",
      "                  Source  \n",
      "subject acc.ver           \n",
      "NP_904328.1       RefSeq  \n",
      "AGK29621.1            NA  \n",
      "YP_220563.1      GenPept  \n",
      "ACM24502.1            NA  \n",
      "AHG32084.1            NA  \n"
     ]
    },
    {
     "name": "stderr",
     "output_type": "stream",
     "text": [
      "C:\\Users\\Aaron\\AppData\\Local\\Temp\\ipykernel_10252\\3858675275.py:14: FutureWarning: A value is trying to be set on a copy of a DataFrame or Series through chained assignment using an inplace method.\n",
      "The behavior will change in pandas 3.0. This inplace method will never work because the intermediate object on which we are setting values always behaves as a copy.\n",
      "\n",
      "For example, when doing 'df[col].method(value, inplace=True)', try using 'df.method({col: value}, inplace=True)' or df[col] = df[col].method(value) instead, to perform the operation inplace on the original object.\n",
      "\n",
      "\n",
      "  merged_df['Source'].fillna('NA', inplace=True)\n"
     ]
    }
   ],
   "source": [
    "# URL of the protein source dataset\n",
    "protein_source_url = \"https://raw.githubusercontent.com/csbfx/advpy122-data/master/protein_source.csv\"\n",
    "\n",
    "# Read the protein source data\n",
    "protein_source_df = pd.read_csv(protein_source_url)\n",
    "\n",
    "# Merge the dataframes on 'subject acc.ver' and 'Protein'\n",
    "merged_df = df.reset_index().merge(protein_source_df, how='left', left_on='subject acc.ver', right_on='Protein')\n",
    "\n",
    "# Set 'subject acc.ver' back as the index\n",
    "merged_df.set_index('subject acc.ver', inplace=True)\n",
    "\n",
    "# Fill missing 'Protein source' values with 'NA'\n",
    "merged_df['Source'].fillna('NA', inplace=True)\n",
    "\n",
    "# Show the first few rows of the merged dataframe\n",
    "print(merged_df.head())"
   ]
  }
 ],
 "metadata": {
  "colab": {
   "provenance": [
    {
     "file_id": "1mT0d5EQ_JnPEsGnthjkQoWvSvD3Pp3Pk",
     "timestamp": 1728485484043
    }
   ]
  },
  "kernelspec": {
   "display_name": "base",
   "language": "python",
   "name": "python3"
  },
  "language_info": {
   "codemirror_mode": {
    "name": "ipython",
    "version": 3
   },
   "file_extension": ".py",
   "mimetype": "text/x-python",
   "name": "python",
   "nbconvert_exporter": "python",
   "pygments_lexer": "ipython3",
   "version": "3.12.3"
  }
 },
 "nbformat": 4,
 "nbformat_minor": 0
}
